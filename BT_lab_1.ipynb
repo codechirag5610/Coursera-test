{
  "nbformat": 4,
  "nbformat_minor": 0,
  "metadata": {
    "colab": {
      "name": "BT_lab_1.ipynb",
      "provenance": [],
      "authorship_tag": "ABX9TyPMM7WuxfBvgZOyUWPJ6Q5d",
      "include_colab_link": true
    },
    "kernelspec": {
      "name": "python3",
      "display_name": "Python 3"
    },
    "language_info": {
      "name": "python"
    }
  },
  "cells": [
    {
      "cell_type": "markdown",
      "metadata": {
        "id": "view-in-github",
        "colab_type": "text"
      },
      "source": [
        "<a href=\"https://colab.research.google.com/github/codechirag5610/Coursera-test/blob/main/BT_lab_1.ipynb\" target=\"_parent\"><img src=\"https://colab.research.google.com/assets/colab-badge.svg\" alt=\"Open In Colab\"/></a>"
      ]
    },
    {
      "cell_type": "code",
      "execution_count": 1,
      "metadata": {
        "colab": {
          "base_uri": "https://localhost:8080/"
        },
        "id": "BcIJA6ztbuYZ",
        "outputId": "c06cdcab-dffd-4d2a-d636-bb039064d7aa"
      },
      "outputs": [
        {
          "output_type": "stream",
          "name": "stdout",
          "text": [
            "Looking in indexes: https://pypi.org/simple, https://us-python.pkg.dev/colab-wheels/public/simple/\n",
            "Collecting pycryptodome\n",
            "  Downloading pycryptodome-3.15.0-cp35-abi3-manylinux2010_x86_64.whl (2.3 MB)\n",
            "\u001b[K     |████████████████████████████████| 2.3 MB 4.7 MB/s \n",
            "\u001b[?25hInstalling collected packages: pycryptodome\n",
            "Successfully installed pycryptodome-3.15.0\n"
          ]
        }
      ],
      "source": [
        "!pip install pycryptodome"
      ]
    },
    {
      "cell_type": "code",
      "source": [
        "import hashlib, random, string, json, binascii, datetime, collections, logging, numpy as np, pandas as pd, pylab, Crypto, Crypto.Random\n",
        "from Crypto.Hash import SHA\n",
        "from Crypto.PublicKey import RSA\n",
        "from Crypto.Signature import PKCS1_v1_5"
      ],
      "metadata": {
        "id": "uTWO3FgNb3Th"
      },
      "execution_count": 8,
      "outputs": []
    },
    {
      "cell_type": "code",
      "source": [
        "class Client:\n",
        "  def __init__(self):\n",
        "    random_num = Crypto.Random.new().read\n",
        "    self._Private_Key = RSA.generate(1024, random_num)\n",
        "    self._Public_Key = self._Private_Key.public_key()\n",
        "    self._Signature = PKCS1_v1_5.new(self._Private_Key)\n",
        "\n",
        "  @property\n",
        "  def identity(self):\n",
        "    return binascii.hexlify(self._Public_Key.exportKey(format='DER')).decode()"
      ],
      "metadata": {
        "id": "9uxTPwKFcvAT"
      },
      "execution_count": 15,
      "outputs": []
    },
    {
      "cell_type": "code",
      "source": [
        "c1 = Client()\n",
        "print(c1.identity)"
      ],
      "metadata": {
        "colab": {
          "base_uri": "https://localhost:8080/"
        },
        "id": "I4mVr7q0eZAH",
        "outputId": "9316d7ba-68d4-4138-8c1f-01061f32f2c8"
      },
      "execution_count": 16,
      "outputs": [
        {
          "output_type": "stream",
          "name": "stdout",
          "text": [
            "30819f300d06092a864886f70d010101050003818d0030818902818100d43d942408321e7060293d7e9a1fb38be9761362f761668e5c0a41f66a1c7de190141ecf1301de480c088078aef100496ae258d6347a6fc596dee426d4169d08bfdf2cdb9e4ebaea5a07e6866cdf4243f60b713e2a5d8bfde728dffac54704e21fd7ccf152c32debbd11d8f9a9509e8a28a25e8c41a3505badbb569ec54a20ad0203010001\n"
          ]
        }
      ]
    },
    {
      "cell_type": "code",
      "source": [
        ""
      ],
      "metadata": {
        "id": "o78iZ7unfknB"
      },
      "execution_count": null,
      "outputs": []
    }
  ]
}